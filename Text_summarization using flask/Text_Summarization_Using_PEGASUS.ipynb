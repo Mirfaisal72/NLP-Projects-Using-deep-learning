{
 "cells": [
  {
   "cell_type": "code",
   "execution_count": 1,
   "id": "c9137017",
   "metadata": {},
   "outputs": [
    {
     "name": "stderr",
     "output_type": "stream",
     "text": [
      "C:\\Users\\MIR FAISAL\\anaconda3\\Lib\\site-packages\\transformers\\utils\\generic.py:260: UserWarning: torch.utils._pytree._register_pytree_node is deprecated. Please use torch.utils._pytree.register_pytree_node instead.\n",
      "  torch.utils._pytree._register_pytree_node(\n"
     ]
    }
   ],
   "source": [
    "from transformers import PegasusForConditionalGeneration ,PegasusTokenizer , PegasusConfig, PegasusModel\n",
    "import torch"
   ]
  },
  {
   "cell_type": "code",
   "execution_count": 49,
   "id": "86525683",
   "metadata": {},
   "outputs": [],
   "source": [
    "model_name = \"google/pegasus-xsum\"\n",
    "tokenizer = PegasusTokenizer.from_pretrained(model_name)"
   ]
  },
  {
   "cell_type": "code",
   "execution_count": 50,
   "id": "a1522dcd",
   "metadata": {},
   "outputs": [
    {
     "name": "stderr",
     "output_type": "stream",
     "text": [
      "Some weights of PegasusForConditionalGeneration were not initialized from the model checkpoint at google/pegasus-xsum and are newly initialized: ['model.decoder.embed_positions.weight', 'model.encoder.embed_positions.weight']\n",
      "You should probably TRAIN this model on a down-stream task to be able to use it for predictions and inference.\n"
     ]
    }
   ],
   "source": [
    "model = PegasusForConditionalGeneration.from_pretrained(model_name)"
   ]
  },
  {
   "cell_type": "code",
   "execution_count": 51,
   "id": "3c95a6c2",
   "metadata": {},
   "outputs": [],
   "source": [
    "text = \"\"\"In recent years, artificial intelligence (AI) has emerged as a transformative technology across various industries. From healthcare and finance to manufacturing and entertainment, the applications of AI are wide-ranging and continue to evolve rapidly. Machine learning, a subset of AI, has played a pivotal role in driving these advancements.\n",
    "\n",
    "Machine learning algorithms enable computers to learn from data and make intelligent decisions without explicit programming. This paradigm shift has led to breakthroughs in natural language processing, computer vision, and other domains. As data availability and computational power have increased, the capabilities of machine learning models have also grown, allowing them to tackle complex problems.\n",
    "\n",
    "One notable area where machine learning excels is in recommendation systems. Companies like Netflix and Amazon use sophisticated algorithms to analyze user behavior and provide personalized recommendations, enhancing the overall user experience. Additionally, in the healthcare sector, machine learning models are being employed to analyze medical images, predict disease outcomes, and optimize treatment plans.\n",
    "\n",
    "However, the rapid advancement of machine learning is not without challenges. Ethical considerations, bias in algorithms, and data privacy concerns are areas that demand careful attention. Striking a balance between innovation and responsible deployment is crucial to harness the full potential of machine learning while minimizing unintended consequences.\n",
    "\n",
    "The future of machine learning holds exciting prospects. Continued research in deep learning, reinforcement learning, and other subfields promises to push the boundaries of what machines can achieve. As more industries adopt AI-driven solutions, it is imperative to prioritize transparency, accountability, and ethical considerations to ensure the responsible development and deployment of machine learning technologies.\n",
    "\n",
    "In conclusion, machine learning is a powerful tool reshaping the landscape of technology and business. Its applications are diverse and impactful, with the potential to drive innovation and improve efficiency across various sectors. As researchers and practitioners continue to explore its possibilities, the responsible and ethical use of machine learning will be paramount in shaping a positive and sustainable future.\n",
    "\n",
    "\"\"\""
   ]
  },
  {
   "cell_type": "code",
   "execution_count": 52,
   "id": "1df32766",
   "metadata": {},
   "outputs": [],
   "source": [
    "tokens = tokenizer.encode(text,truncation=True,padding=\"longest\", return_tensors=\"pt\")"
   ]
  },
  {
   "cell_type": "markdown",
   "id": "2f964473",
   "metadata": {},
   "source": [
    "###### here no padding will occus as only one sentence is used\n",
    "\n"
   ]
  },
  {
   "cell_type": "code",
   "execution_count": 53,
   "id": "1d64ff96",
   "metadata": {},
   "outputs": [
    {
     "data": {
      "text/plain": [
       "tensor([[  222,   909,   231,   108,  4958,  3941,   143, 13901,   158,   148,\n",
       "          7677,   130,   114, 21349,   552,   482,   623,  3217,   107,  1078,\n",
       "          2896,   111,  3324,   112,  2438,   111,  2709,   108,   109,  1160,\n",
       "           113,  5344,   127,   827,   121, 20664,   111,   801,   112,  9714,\n",
       "          4420,   107,  3838,   761,   108,   114, 22325,   113,  5344,   108,\n",
       "           148,  1421,   114, 17292,   868,   115,  1528,   219, 17067,   107,\n",
       "          3838,   761,  8970,  2392,  4328,   112,   543,   135,   335,   111,\n",
       "           193,  6756,  1993,   347, 14174,  3661,   107,   182, 17142,  3460,\n",
       "           148,  1358,   112, 33237,   115,   710,  1261,  2196,   108,   958,\n",
       "          1942,   108,   111,   176,  9982,   107,   398,   335,  3305,   111,\n",
       "         17264,   484,   133,  1562,   108,   109,  3441,   113,  1157,   761,\n",
       "          1581,   133,   163,  2763,   108,  2063,   183,   112,  5559,  1482,\n",
       "           743,   107,   614,  7913,   345,   241,  1157,   761, 33003,   117,\n",
       "           115,  6534,   747,   107,  6644,   172,  7697,   111,  2107,   207,\n",
       "          4720,  8970,   112,  5935,   862,  2764,   111,   319,  4616,  3630,\n",
       "           108,  8182,   109,  1380,   862,   306,   107,  4173,   108,   115,\n",
       "           109,  2896,  1827,   108,  1157,   761,  1581,   127,   270,  5039,\n",
       "           112,  5935,   941,  1055,   108,  7582,  1568,  3959,   108,   111,\n",
       "          8236,   791,  1017,   107,   611,   108,   109,  4686, 11551,   113,\n",
       "          1157,   761,   117,   146,   347,  1628,   107, 30949, 10721,   108,\n",
       "          9983,   115,  8970,   108,   111,   335,  2715,  2084,   127,   633,\n",
       "           120,  1806,  3794,  1090,   107,   110, 58159,   114,  1716,   317,\n",
       "          2719,   111,  1470,  7598,   117,  3236,   112,  9516,   109,   357,\n",
       "           866,   113,  1157,   761,   277, 18919, 31817,  4726,   107,   139,\n",
       "           533,   113,  1157,   761,  2758,  1845,  6587,   107, 54716,   473,\n",
       "           115,  1355,   761,   108, 19189,   761,   108,   111,   176,  2672,\n",
       "         25701,  6057,   112,  2589,   109,  6692,   113,   180,  2752,   137,\n",
       "          1433,   107,   398,   154,  3217,  6943,  5344,   121,  6889,   945,\n",
       "           108,   126,   117, 10125,   112, 17195,  7486,   108,  9643,   108,\n",
       "           111,  7301, 10721,   112,   615,   109,  1470,   486,   111,  7598,\n",
       "           113,  1157,   761,  2150,   107,   222,  5295,   108,  1157,   761,\n",
       "           117,   114,  1512,  1177, 50344,   109,  2646,   113,   552,   111,\n",
       "           260,   107,  3096,  1160,   127,  2766,   111, 21433,   108,   122,\n",
       "           109,   866,   112,   919,  2719,   111,   927,  2542,   482,   623,\n",
       "          4951,   107,   398,  2995,   111,  7700,   801,   112,  1697,   203,\n",
       "          4570,   108,   109,  1470,   111,  7301,   207,   113,  1157,   761,\n",
       "           138,   129, 16962,   115, 11368,   114,  1259,   111,  3079,   533,\n",
       "           107,     1]])"
      ]
     },
     "execution_count": 53,
     "metadata": {},
     "output_type": "execute_result"
    }
   ],
   "source": [
    "tokens"
   ]
  },
  {
   "cell_type": "code",
   "execution_count": 60,
   "id": "07e7509a",
   "metadata": {},
   "outputs": [
    {
     "data": {
      "text/plain": [
       "{'In recent years, artificial intelligence (AI) has emerged as a transformative technology across various industries. From healthcare and finance to manufacturing and entertainment, the applications of AI are wide-ranging and continue to evolve rapidly. Machine learning, a subset of AI, has played a pivotal role in driving these advancements.\\n\\nMachine learning algorithms enable computers to learn from data and make intelligent decisions without explicit programming. This paradigm shift has led to breakthroughs in natural language processing, computer vision, and other domains. As data availability and computational power have increased, the capabilities of machine learning models have also grown, allowing them to tackle complex problems.\\n\\nOne notable area where machine learning excels is in recommendation systems. Companies like Netflix and Amazon use sophisticated algorithms to analyze user behavior and provide personalized recommendations, enhancing the overall user experience. Additionally, in the healthcare sector, machine learning models are being employed to analyze medical images, predict disease outcomes, and optimize treatment plans.\\n\\nHowever, the rapid advancement of machine learning is not without challenges. Ethical considerations, bias in algorithms, and data privacy concerns are areas that demand careful attention. Striking a balance between innovation and responsible deployment is crucial to harness the full potential of machine learning while minimizing unintended consequences.\\n\\nThe future of machine learning holds exciting prospects. Continued research in deep learning, reinforcement learning, and other subfields promises to push the boundaries of what machines can achieve. As more industries adopt AI-driven solutions, it is imperative to prioritize transparency, accountability, and ethical considerations to ensure the responsible development and deployment of machine learning technologies.\\n\\nIn conclusion, machine learning is a powerful tool reshaping the landscape of technology and business. Its applications are diverse and impactful, with the potential to drive innovation and improve efficiency across various sectors. As researchers and practitioners continue to explore its possibilities, the responsible and ethical use of machine learning will be paramount in shaping a positive and sustainable future.\\n\\n'}"
      ]
     },
     "execution_count": 60,
     "metadata": {},
     "output_type": "execute_result"
    }
   ],
   "source": [
    "{text}"
   ]
  },
  {
   "cell_type": "code",
   "execution_count": 61,
   "id": "7f60bc02",
   "metadata": {},
   "outputs": [],
   "source": [
    "summary_ = model.generate(tokens)"
   ]
  },
  {
   "cell_type": "code",
   "execution_count": 62,
   "id": "3f905a13",
   "metadata": {},
   "outputs": [
    {
     "data": {
      "text/plain": [
       "tensor([[    0,  3838,   761,  8970,  2392,  4328,   112,   543,   135,   335,\n",
       "           111,   193,  6756,  1993,   347, 14174,  3661,   107,     1]])"
      ]
     },
     "execution_count": 62,
     "metadata": {},
     "output_type": "execute_result"
    }
   ],
   "source": [
    "summary_"
   ]
  },
  {
   "cell_type": "code",
   "execution_count": 67,
   "id": "7179ed56",
   "metadata": {},
   "outputs": [
    {
     "name": "stdout",
     "output_type": "stream",
     "text": [
      "<pad>Machine learning algorithms enable computers to learn from data and make intelligent decisions without explicit programming.</s>\n"
     ]
    }
   ],
   "source": [
    "summarized_text = tokenizer.decode(summary_[0], skip_speacial_tokens=True)\n",
    "print(summarized_text)"
   ]
  },
  {
   "cell_type": "code",
   "execution_count": 2,
   "id": "18b39037",
   "metadata": {},
   "outputs": [],
   "source": [
    "configuration = PegasusConfig()\n",
    "model = PegasusModel(configuration)"
   ]
  },
  {
   "cell_type": "code",
   "execution_count": 4,
   "id": "71318d28",
   "metadata": {},
   "outputs": [
    {
     "data": {
      "text/plain": [
       "PegasusConfig {\n",
       "  \"activation_dropout\": 0.0,\n",
       "  \"activation_function\": \"gelu\",\n",
       "  \"attention_dropout\": 0.0,\n",
       "  \"d_model\": 1024,\n",
       "  \"decoder_attention_heads\": 16,\n",
       "  \"decoder_ffn_dim\": 4096,\n",
       "  \"decoder_layerdrop\": 0.0,\n",
       "  \"decoder_layers\": 12,\n",
       "  \"decoder_start_token_id\": 0,\n",
       "  \"dropout\": 0.1,\n",
       "  \"encoder_attention_heads\": 16,\n",
       "  \"encoder_ffn_dim\": 4096,\n",
       "  \"encoder_layerdrop\": 0.0,\n",
       "  \"encoder_layers\": 12,\n",
       "  \"eos_token_id\": 1,\n",
       "  \"forced_eos_token_id\": 1,\n",
       "  \"init_std\": 0.02,\n",
       "  \"is_encoder_decoder\": true,\n",
       "  \"max_position_embeddings\": 1024,\n",
       "  \"model_type\": \"pegasus\",\n",
       "  \"num_hidden_layers\": 12,\n",
       "  \"pad_token_id\": 0,\n",
       "  \"scale_embedding\": false,\n",
       "  \"transformers_version\": \"4.32.1\",\n",
       "  \"use_cache\": true,\n",
       "  \"vocab_size\": 50265\n",
       "}"
      ]
     },
     "execution_count": 4,
     "metadata": {},
     "output_type": "execute_result"
    }
   ],
   "source": [
    "configuration = model.config\n",
    "configuration"
   ]
  },
  {
   "cell_type": "code",
   "execution_count": null,
   "id": "54f4f773",
   "metadata": {},
   "outputs": [],
   "source": []
  }
 ],
 "metadata": {
  "kernelspec": {
   "display_name": "Python 3 (ipykernel)",
   "language": "python",
   "name": "python3"
  },
  "language_info": {
   "codemirror_mode": {
    "name": "ipython",
    "version": 3
   },
   "file_extension": ".py",
   "mimetype": "text/x-python",
   "name": "python",
   "nbconvert_exporter": "python",
   "pygments_lexer": "ipython3",
   "version": "3.11.5"
  }
 },
 "nbformat": 4,
 "nbformat_minor": 5
}
